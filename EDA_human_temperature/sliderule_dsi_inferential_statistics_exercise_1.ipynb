{
 "cells": [
  {
   "cell_type": "markdown",
   "metadata": {},
   "source": [
    "# What is the True Normal Human Body Temperature? \n",
    "\n",
    "#### Background\n",
    "\n",
    "The mean normal body temperature was held to be 37$^{\\circ}$C or 98.6$^{\\circ}$F for more than 120 years since it was first conceptualized and reported by Carl Wunderlich in a famous 1868 book. But, is this value statistically correct?"
   ]
  },
  {
   "cell_type": "markdown",
   "metadata": {},
   "source": [
    "<h3>Exercises</h3>\n",
    "\n",
    "<p>In this exercise, you will analyze a dataset of human body temperatures and employ the concepts of hypothesis testing, confidence intervals, and statistical significance.</p>\n",
    "\n",
    "<p>Answer the following questions <b>in this notebook below and submit to your Github account</b>.</p> \n",
    "\n",
    "<ol>\n",
    "<li>  Is the distribution of body temperatures normal? \n",
    "    <ul>\n",
    "    <li> Although this is not a requirement for the Central Limit Theorem to hold (read the introduction on Wikipedia's page about the CLT carefully: https://en.wikipedia.org/wiki/Central_limit_theorem), it gives us some peace of mind that the population may also be normally distributed if we assume that this sample is representative of the population.\n",
    "    <li> Think about the way you're going to check for the normality of the distribution. Graphical methods are usually used first, but there are also other ways: https://en.wikipedia.org/wiki/Normality_test\n",
    "    </ul>\n",
    "<li>  Is the sample size large? Are the observations independent?\n",
    "    <ul>\n",
    "    <li> Remember that this is a condition for the Central Limit Theorem, and hence the statistical tests we are using, to apply.\n",
    "    </ul>\n",
    "<li>  Is the true population mean really 98.6 degrees F?\n",
    "    <ul>\n",
    "    <li> First, try a bootstrap hypothesis test.\n",
    "    <li> Now, let's try frequentist statistical testing. Would you use a one-sample or two-sample test? Why?\n",
    "    <li> In this situation, is it appropriate to use the $t$ or $z$ statistic? \n",
    "    <li> Now try using the other test. How is the result be different? Why?\n",
    "    </ul>\n",
    "<li>  Draw a small sample of size 10 from the data and repeat both frequentist tests. \n",
    "    <ul>\n",
    "    <li> Which one is the correct one to use? \n",
    "    <li> What do you notice? What does this tell you about the difference in application of the $t$ and $z$ statistic?\n",
    "    </ul>\n",
    "<li>  At what temperature should we consider someone's temperature to be \"abnormal\"?\n",
    "    <ul>\n",
    "    <li> As in the previous example, try calculating everything using the boostrap approach, as well as the frequentist approach.\n",
    "    <li> Start by computing the margin of error and confidence interval. When calculating the confidence interval, keep in mind that you should use the appropriate formula for one draw, and not N draws.\n",
    "    </ul>\n",
    "<li>  Is there a significant difference between males and females in normal temperature?\n",
    "    <ul>\n",
    "    <li> What testing approach did you use and why?\n",
    "    <li> Write a story with your conclusion in the context of the original problem.\n",
    "    </ul>\n",
    "</ol>\n",
    "\n",
    "You can include written notes in notebook cells using Markdown: \n",
    "   - In the control panel at the top, choose Cell > Cell Type > Markdown\n",
    "   - Markdown syntax: http://nestacms.com/docs/creating-content/markdown-cheat-sheet\n",
    "\n",
    "#### Resources\n",
    "\n",
    "+ Information and data sources: http://www.amstat.org/publications/jse/datasets/normtemp.txt, http://www.amstat.org/publications/jse/jse_data_archive.htm\n",
    "+ Markdown syntax: http://nestacms.com/docs/creating-content/markdown-cheat-sheet\n",
    "\n",
    "****"
   ]
  },
  {
   "cell_type": "code",
   "execution_count": 8,
   "metadata": {},
   "outputs": [],
   "source": [
    "# Your work here."
   ]
  },
  {
   "cell_type": "code",
   "execution_count": 9,
   "metadata": {},
   "outputs": [],
   "source": [
    "import matplotlib.pyplot as plt\n",
    "import pandas as pd\n",
    "import seaborn as sns\n",
    "import numpy as np"
   ]
  },
  {
   "cell_type": "code",
   "execution_count": 10,
   "metadata": {},
   "outputs": [],
   "source": [
    "df = pd.read_csv('data/human_body_temperature.csv')"
   ]
  },
  {
   "cell_type": "code",
   "execution_count": 11,
   "metadata": {
    "scrolled": true
   },
   "outputs": [
    {
     "data": {
      "text/html": [
       "<div>\n",
       "<style scoped>\n",
       "    .dataframe tbody tr th:only-of-type {\n",
       "        vertical-align: middle;\n",
       "    }\n",
       "\n",
       "    .dataframe tbody tr th {\n",
       "        vertical-align: top;\n",
       "    }\n",
       "\n",
       "    .dataframe thead th {\n",
       "        text-align: right;\n",
       "    }\n",
       "</style>\n",
       "<table border=\"1\" class=\"dataframe\">\n",
       "  <thead>\n",
       "    <tr style=\"text-align: right;\">\n",
       "      <th></th>\n",
       "      <th>temperature</th>\n",
       "      <th>gender</th>\n",
       "      <th>heart_rate</th>\n",
       "    </tr>\n",
       "  </thead>\n",
       "  <tbody>\n",
       "    <tr>\n",
       "      <th>0</th>\n",
       "      <td>99.3</td>\n",
       "      <td>F</td>\n",
       "      <td>68.0</td>\n",
       "    </tr>\n",
       "    <tr>\n",
       "      <th>1</th>\n",
       "      <td>98.4</td>\n",
       "      <td>F</td>\n",
       "      <td>81.0</td>\n",
       "    </tr>\n",
       "    <tr>\n",
       "      <th>2</th>\n",
       "      <td>97.8</td>\n",
       "      <td>M</td>\n",
       "      <td>73.0</td>\n",
       "    </tr>\n",
       "    <tr>\n",
       "      <th>3</th>\n",
       "      <td>99.2</td>\n",
       "      <td>F</td>\n",
       "      <td>66.0</td>\n",
       "    </tr>\n",
       "    <tr>\n",
       "      <th>4</th>\n",
       "      <td>98.0</td>\n",
       "      <td>F</td>\n",
       "      <td>73.0</td>\n",
       "    </tr>\n",
       "  </tbody>\n",
       "</table>\n",
       "</div>"
      ],
      "text/plain": [
       "   temperature gender  heart_rate\n",
       "0         99.3      F        68.0\n",
       "1         98.4      F        81.0\n",
       "2         97.8      M        73.0\n",
       "3         99.2      F        66.0\n",
       "4         98.0      F        73.0"
      ]
     },
     "execution_count": 11,
     "metadata": {},
     "output_type": "execute_result"
    }
   ],
   "source": [
    "df.head()"
   ]
  },
  {
   "cell_type": "markdown",
   "metadata": {},
   "source": [
    "#### 1. Is the distribution of body temperatures normal?\n"
   ]
  },
  {
   "cell_type": "code",
   "execution_count": 60,
   "metadata": {
    "scrolled": true
   },
   "outputs": [
    {
     "data": {
      "image/png": "[encoded data removed]",
      "text/plain": [
       "<Figure size 432x288 with 1 Axes>"
      ]
     },
     "metadata": {
      "needs_background": "light"
     },
     "output_type": "display_data"
    }
   ],
   "source": [
    "sns.distplot(df['temperature'], bins=30);"
   ]
  },
  {
   "cell_type": "code",
   "execution_count": 66,
   "metadata": {},
   "outputs": [
    {
     "data": {
      "text/plain": [
       "<matplotlib.axes._subplots.AxesSubplot at 0x127053710>"
      ]
     },
     "execution_count": 66,
     "metadata": {},
     "output_type": "execute_result"
    },
    {
     "data": {
      "image/png": "[encoded data removed]",
      "text/plain": [
       "<Figure size 432x288 with 1 Axes>"
      ]
     },
     "metadata": {
      "needs_background": "light"
     },
     "output_type": "display_data"
    }
   ],
   "source": [
    "sns.distplot(df['heart_rate'], bins=20)"
   ]
  },
  {
   "cell_type": "code",
   "execution_count": 14,
   "metadata": {},
   "outputs": [],
   "source": [
    "def ecdf(data):\n",
    "    ''' takes the data and returns the x and y values where x is the sorted data and\n",
    "    y is the cumulative proportion of the distribution of data. The result can be used for \n",
    "    plotting an empirical cumulative distribution function (ECDF).\n",
    "    '''\n",
    "    n = len(data)\n",
    "    x = np.sort(data)\n",
    "    y = np.arange(1, n+1)/n\n",
    "    return x, y    "
   ]
  },
  {
   "cell_type": "code",
   "execution_count": 15,
   "metadata": {},
   "outputs": [],
   "source": [
    "t1, t2 = ecdf(df['temperature'])\n",
    "h1,h2 = ecdf(df['heart_rate'])"
   ]
  },
  {
   "cell_type": "code",
   "execution_count": 16,
   "metadata": {},
   "outputs": [],
   "source": [
    "# define an array of percentiles\n",
    "percentiles = np.array([2.5,25,50,75,97.5])\n",
    "\n",
    "temp_percentile = np.percentile(df['temperature'], percentiles).round(1)\n",
    "hr_percentile = np.percentile(df['heart_rate'],percentiles).round(1)"
   ]
  },
  {
   "cell_type": "code",
   "execution_count": 17,
   "metadata": {},
   "outputs": [],
   "source": [
    "# get the µ and sd of the distribution to replicate the value in normal dist.\n",
    "sd_temp = np.std(df['temperature'])\n",
    "mu_temp = np.mean(df['temperature'])\n",
    "sd_hr = np.std(df['heart_rate'])\n",
    "mu_hr = np.mean(df['heart_rate'])"
   ]
  },
  {
   "cell_type": "code",
   "execution_count": 18,
   "metadata": {
    "scrolled": true
   },
   "outputs": [],
   "source": [
    "# create a normally distributed data based on the means and standard deviations \n",
    "# of the observed data. \n",
    "temp_normal = np.random.normal(mu_temp,sd_temp,len(df))\n",
    "hr_normal = np.random.normal(mu_hr,sd_hr,len(df))"
   ]
  },
  {
   "cell_type": "code",
   "execution_count": 19,
   "metadata": {},
   "outputs": [],
   "source": [
    "# create the x and y values of the theoretical (normal) distribution. \n",
    "t1_theor, t2_theor = ecdf(temp_normal)\n",
    "h1_theor, h2_theor = ecdf(hr_normal)"
   ]
  },
  {
   "cell_type": "code",
   "execution_count": 54,
   "metadata": {
    "scrolled": true
   },
   "outputs": [
    {
     "data": {
      "image/png": "[encoded data removed]",
      "text/plain": [
       "<Figure size 720x288 with 2 Axes>"
      ]
     },
     "metadata": {
      "needs_background": "light"
     },
     "output_type": "display_data"
    }
   ],
   "source": [
    "# plot the empirical cumulative distribution function, \n",
    "# actual percentiles (2.5, 25, 50, 75, 97.5) and the theoretical normal distribution \n",
    "# cumulative values. \n",
    "fig, [ax1, ax2] = plt.subplots(1,2,figsize=(10,4))\n",
    "ax1.plot(t1,t2,marker='.', linestyle='none', label='actual distribution')\n",
    "ax1.plot(temp_percentile,percentiles/100,marker='D',\n",
    "         color='red', linestyle='none', label='percentiles (2.5 to 97.5)')\n",
    "ax1.plot(t1_theor,t2_theor, marker='.', linestyle='none', \n",
    "         color='grey', label='normal distribution',alpha=0.7)\n",
    "ax1.set_xlabel('Human body temperature (fh)')\n",
    "ax1.set_ylabel('Empirical cumulative distribution');\n",
    "ax1.legend()\n",
    "for i,j in zip(temp_percentile,percentiles):\n",
    "    ax1.annotate(str(i),xy=(i+0.2,j/100-0.05))\n",
    "    \n",
    "ax2.plot(h1,h2,marker='.', linestyle='none',label='actual distribution')\n",
    "ax2.plot(hr_percentile,percentiles/100,marker='D', \n",
    "         color='red', linestyle='none', label='percentiles (2.5 to 97.5)')\n",
    "ax2.plot(h1_theor,h2_theor, marker='.', linestyle='none', \n",
    "         color='grey',label='normal distribution', alpha=0.7)\n",
    "for i,j in zip(hr_percentile,percentiles):\n",
    "    ax2.annotate(str(i),xy=(i+0.2,j/100-0.04))\n",
    "\n",
    "ax2.set_xlabel('heart rate')\n",
    "ax2.set_ylabel('Empirical cumulative distribution');\n",
    "ax2.legend()\n",
    "plt.tight_layout()"
   ]
  },
  {
   "cell_type": "markdown",
   "metadata": {},
   "source": [
    "#### Discussion\n",
    "Data seem approximately normally distributed, especially for the hear rate. Body temperature data seem to have a left skew (most of the data is slightly higher than the theoretical normal distribution)."
   ]
  },
  {
   "cell_type": "markdown",
   "metadata": {},
   "source": [
    "**2. Is the sample size large? Are the observations independent?**\n",
    "* Remember that this is a condition for the Central Limit Theorem, and hence the statistical tests we are using, to apply."
   ]
  },
  {
   "cell_type": "markdown",
   "metadata": {},
   "source": [
    "#### Answer\n",
    "* Since the data is about biological measurements, the underlying population data should be normally distributed. The sample size of 390 observations is large enough. \n",
    "* the observations are independent among the variables. but there might be some correlation between the body temperature and heart rate, so we cannot rule out dependence between these 2 variables.\n",
    "\n",
    "***Ask Shmuel about this. Are they asking about the independence between heart rate and temperature or independence among the different observations?***"
   ]
  },
  {
   "cell_type": "markdown",
   "metadata": {},
   "source": [
    "**3. Is the true population mean really 98.6 degrees F?**\n",
    "* First, try a bootstrap hypothesis test. \n",
    "* Now, let's try frequentist statistical testing. Would you use a one-sample or two-sample test? Why? \n",
    "* In this situation, is it appropriate to use the t or z statistic? \n",
    "* Now try using the other test. How is the result be different? Why?"
   ]
  },
  {
   "cell_type": "markdown",
   "metadata": {},
   "source": [
    "#### Answer\n",
    "\n",
    "##### Hypothesis testing\n",
    "* H0: the population mean is 98.6 degrees\n",
    "* H1: the population mean is NOT 98.6 degrees. \n",
    "\n",
    "We need to construct a two-tail hypothesis test using bootstrapping. \n",
    "\n",
    "##### t-statistic vs z-statistic\n",
    "When we don't know the actual parameters of the population distribution (mean, std), we need to use the **t-statistic**."
   ]
  },
  {
   "cell_type": "code",
   "execution_count": 127,
   "metadata": {},
   "outputs": [],
   "source": [
    "# Bootstrap hypothesis test:\n",
    "# Create a bootstrapping sample from the existing sample and check what is the probability\n",
    "# that we can get a value as extreme or more than the observed mean.\n",
    "\n",
    "def bootstrap_means(data, size):\n",
    "    '''\n",
    "    Recreate the sample by drawing a random item from the sample with replacement, \n",
    "    creating a sub-set in the size of the original sample from the randomly selected items,\n",
    "    taking their means and appending these means to a numpy array. \n",
    "    '''\n",
    "    bootstrap = np.empty(size)\n",
    "    for i in range(size):\n",
    "        bootstrap[i] = np.mean(np.random.choice(data, size))\n",
    "    return bootstrap"
   ]
  },
  {
   "cell_type": "code",
   "execution_count": 128,
   "metadata": {},
   "outputs": [],
   "source": [
    "new_means = bootstrap_means(df['temperature'], 1000)"
   ]
  },
  {
   "cell_type": "code",
   "execution_count": 129,
   "metadata": {},
   "outputs": [
    {
     "data": {
      "image/png": "[encoded data removed]",
      "text/plain": [
       "<Figure size 432x288 with 1 Axes>"
      ]
     },
     "metadata": {
      "needs_background": "light"
     },
     "output_type": "display_data"
    }
   ],
   "source": [
    "sns.distplot(new_means, bins=30);"
   ]
  },
  {
   "cell_type": "code",
   "execution_count": 146,
   "metadata": {},
   "outputs": [],
   "source": [
    "# test the null hypothesis that there is no difference between the observed mean and the\n",
    "# estimated population mean.\n",
    "\n",
    "observed_mean = np.mean(df['temperature'])\n",
    "population_estimated_mean = np.mean(new_means)"
   ]
  },
  {
   "cell_type": "code",
   "execution_count": 149,
   "metadata": {},
   "outputs": [
    {
     "data": {
      "text/plain": [
       "0.0009519307692329448"
      ]
     },
     "execution_count": 149,
     "metadata": {},
     "output_type": "execute_result"
    }
   ],
   "source": [
    "# difference of the means should be 0 if the null hypothesis is true. \n",
    "diff = population_estimated_mean - observed_mean\n",
    "diff"
   ]
  },
  {
   "cell_type": "code",
   "execution_count": 151,
   "metadata": {},
   "outputs": [],
   "source": [
    "# create a numpy array of differences of means\n",
    "\n",
    "diff_of_means = new_means-observed_mean"
   ]
  },
  {
   "cell_type": "code",
   "execution_count": 153,
   "metadata": {
    "scrolled": true
   },
   "outputs": [
    {
     "data": {
      "image/png": "[encoded data removed]",
      "text/plain": [
       "<Figure size 432x288 with 1 Axes>"
      ]
     },
     "metadata": {
      "needs_background": "light"
     },
     "output_type": "display_data"
    }
   ],
   "source": [
    "sns.distplot(diff_of_means, bins=20);"
   ]
  },
  {
   "cell_type": "code",
   "execution_count": 154,
   "metadata": {},
   "outputs": [],
   "source": [
    "# The fraction of the observed mean and values smaller than that over the entire data (means)\n",
    "(diff_of_means <= diff)"
   ]
  },
  {
   "cell_type": "code",
   "execution_count": 155,
   "metadata": {},
   "outputs": [
    {
     "data": {
      "text/plain": [
       "array([    0.        ,     0.        ,     0.        ,     0.        ,\n",
       "         -42.49754822,   -32.54067584,  -329.94923858,   -46.01769912,\n",
       "        -236.36363636,   -74.4558992 ,     0.        ,     0.        ,\n",
       "           0.        ,     0.        ,     0.        ,   -20.6480305 ,\n",
       "           0.        ,     0.        ,     0.        ,     0.        ,\n",
       "         -21.7718975 ,  -103.83386581,     0.        ,     0.        ,\n",
       "           0.        ,     0.        ,   -36.32299525,     0.        ,\n",
       "         -56.08283003,     0.        ,  -254.40313111,     0.        ,\n",
       "           0.        ,  -108.33333333,     0.        ,     0.        ,\n",
       "        2708.33333339,   -24.55146364,     0.        ,   -75.01442585,\n",
       "           0.        ,   -27.83129951,   -22.35597592,     0.        ,\n",
       "         -22.06007127,  -171.50395778,     0.        ,   -78.54984894,\n",
       "         -72.82913165,     0.        ,   -63.16812439,     0.        ,\n",
       "         -26.15694165,   -58.37449484,     0.        ,  -546.21848739,\n",
       "         -94.95982469,     0.        ,     0.        ,   -43.42017368,\n",
       "         -35.04987867,     0.        ,     0.        ,   -59.41499086,\n",
       "           0.        ,   -20.86342481,     0.        ,   -49.42965779,\n",
       "           0.        ,     0.        ,   -70.7675558 ,   -21.26267583,\n",
       "           0.        ,   -76.15700059,  -115.86452763,   -81.76100629,\n",
       "           0.        ,   -97.7443609 ,     0.        ,   -52.        ,\n",
       "        -492.42424242,  -812.5       ,     0.        ,  -100.697134  ,\n",
       "           0.        ,     0.        ,     0.        ,     0.        ,\n",
       "           0.        ,   -31.81595693,     0.        ,   -36.72316384,\n",
       "         -50.42668735,  -180.80667594,   -23.07828866,     0.        ,\n",
       "           0.        ,     0.        ,   -38.56422427,     0.        ,\n",
       "         -39.95082975,     0.        ,  -411.39240506,     0.        ,\n",
       "           0.        ,     0.        ,  -492.42424242,     0.        ,\n",
       "           0.        ,  -380.11695906,     0.        ,     0.        ,\n",
       "           0.        ,   -21.21756161,   -33.74870197,     0.        ,\n",
       "         -23.23918484,     0.        ,     0.        ,   -36.72316384,\n",
       "        -134.57556936,  -126.09117362,   -77.33491969,     0.        ,\n",
       "         -39.63414634,     0.        ,   -87.48317631,     0.        ,\n",
       "         -27.83129951,     0.        ,   -63.16812439,     0.        ,\n",
       "         -44.98269896,     0.        ,   -54.25709516,     0.        ,\n",
       "           0.        ,     0.        ,  -110.73253833,     0.        ,\n",
       "         -50.68226121,     0.        ,   -29.82335398,     0.        ,\n",
       "        2131.14754107,   -75.58139535, -4333.33333309,     0.        ,\n",
       "         -78.54984894,  -153.1213192 ,   -53.67464905,   -57.36981465,\n",
       "         -58.71725384,     0.        ,     0.        ,     0.        ,\n",
       "         -67.42738589,   -99.69325153,  -202.80811232,   -43.99323181,\n",
       "       -1203.70370368,   -30.27480205,  -242.08566108,   -69.29637527,\n",
       "           0.        ,     0.        ,     0.        ,   -67.88511749,\n",
       "           0.        ,     0.        ,     0.        ,   -26.15694165,\n",
       "         -76.74144038,     0.        ,     0.        ,     0.        ,\n",
       "         -40.76513013,   -48.94578313,   -65.65656566,     0.        ,\n",
       "           0.        ,   -96.79821296,     0.        ,   -32.54067584,\n",
       "         -89.04109589,     0.        ,  -109.51979781,     0.        ,\n",
       "           0.        ,     0.        ,     0.        ,     0.        ,\n",
       "           0.        ,     0.        ,     0.        ,     0.        ,\n",
       "         -37.41007194,   -57.36981465,   -22.35597592,     0.        ,\n",
       "           0.        ,     0.        ,     0.        ,  1150.4424779 ,\n",
       "         -27.44932432,     0.        ,   -56.08283003,     0.        ,\n",
       "        -120.03693444,  -163.11166876,   -39.16842422,     0.        ,\n",
       "        -187.59018759,   -50.68226121,     0.        ,  -577.77777778,\n",
       "        -283.22440087,     0.        ,     0.        ,   -63.97637795,\n",
       "         -28.71024735,   -20.56311294,   -95.87020649,  -207.00636943,\n",
       "           0.        ,  -341.20734908,   -39.95082975,   -85.24590164,\n",
       "         -24.49133384,   -21.26267583,     0.        ,   -18.10584958,\n",
       "           0.        ,     0.        ,   -59.77011494,   -32.43512974,\n",
       "         -60.12950971,     0.        ,     0.        ,     0.        ,\n",
       "           0.        ,   -29.47177511,     0.        ,     0.        ,\n",
       "         -40.76513013,     0.        ,     0.        ,  -236.36363636,\n",
       "           0.        , -4333.33333309,     0.        ,     0.        ,\n",
       "        -122.98959319,   -51.46476643,   -17.08503088,  -142.23194748,\n",
       "           0.        ,     0.        ,     0.        ,     0.        ,\n",
       "           0.        ,     0.        ,   -36.5887982 ,     0.        ,\n",
       "         -66.97578568,     0.        ,     0.        ,   -30.09259259,\n",
       "         -29.82335398,   -82.43500317,   -50.68226121,   -40.93198992,\n",
       "           0.        ,     0.        ,     0.        ,     0.        ,\n",
       "           0.        ,     0.        ,   -61.23410268,   -22.45638279,\n",
       "         -45.59803578,     0.        ,   -56.39913232, -1585.36585366,\n",
       "           0.        ,   -61.23410268,     0.        ,   -35.80280914,\n",
       "           0.        ,     0.        ,     0.        ,     0.        ,\n",
       "           0.        ,   -49.42965779,     0.        ,  -168.61219196,\n",
       "         -61.23410268,   -49.18653046,     0.        ,   -37.69208466,\n",
       "         -46.23044097,  -653.26633165,     0.        ,   -55.77005577,\n",
       "           0.        ,     0.        ,     0.        ,     0.        ,\n",
       "         -79.80356047,  -114.53744493,   -64.80558325,     0.        ,\n",
       "           0.        ,   -57.36981465,  1150.4424779 ,     0.        ,\n",
       "           0.        ,   -25.29675034,  -134.57556936,     0.        ,\n",
       "         -26.36382073,  -215.94684385,  -120.03693444,     0.        ,\n",
       "           0.        ,     0.        ,     0.        ,     0.        ,\n",
       "           0.        ,     0.        ,     0.        ,   -16.19937695,\n",
       "           0.        ,  -127.70137525,   -17.02685003,  -115.86452763,\n",
       "         -35.67508233,     0.        ,   -35.04987867,  -546.21848739,\n",
       "           0.        ,     0.        ,   -25.23291925,   -50.42668735,\n",
       "        -653.26633165,     0.        ,   -63.16812439,     0.        ,\n",
       "        -180.80667594,     0.        ,  -884.35374149,   -44.78126076,\n",
       "         -92.32954545,   -40.76513013,     0.        ,   -46.88063469,\n",
       "         -24.13665058,     0.        ,     0.        ,     0.        ,\n",
       "           0.        ,   -86.72448299,     0.        ,  -127.70137525,\n",
       "           0.        ,     0.        ,     0.        ,     0.        ,\n",
       "           0.        ,   -98.70918755, -7647.05882379,  -122.98959319,\n",
       "         -30.55229142,   -37.69208466,   -68.81948121,  3714.28571443,\n",
       "         -28.71024735, -7647.05882379,     0.        ,   -26.08870159,\n",
       "         -94.95982469,   -77.33491969,  -230.90586146,     0.        ,\n",
       "           0.        ,     0.        ,     0.        ,     0.        ,\n",
       "       -3023.2558138 ,   -55.77005577,     0.        ,     0.        ,\n",
       "           0.        ,  5909.09090958,   -24.55146364,     0.        ,\n",
       "         -59.41499086,     0.        ,     0.        ,  -653.26633166,\n",
       "           0.        ,   -35.29731197,   -63.16812439,  -546.21848739,\n",
       "           0.        ,   -34.44621092,     0.        ,     0.        ,\n",
       "         -49.92319508,   -30.45923149,  -174.49664429,   -18.43971631,\n",
       "           0.        ,     0.        ,     0.        ,     0.        ,\n",
       "         -70.27027027,   -51.73099881,     0.        ,     0.        ,\n",
       "           0.        ,  -291.47982063,   -48.94578313,   -31.91750552,\n",
       "         -20.56311294,  -115.86452763,  -110.73253833,   -39.16842422,\n",
       "           0.        ,     0.        ,     0.        ,   -95.87020649,\n",
       "           0.        ,  -163.11166876,     0.        , 14444.44444511,\n",
       "        -353.26086956,     0.        ,     0.        ,  -242.08566108,\n",
       "           0.        ,   -66.53019447,     0.        ,   -37.69208466,\n",
       "         -38.56422427,   -26.78755409,     0.        ,     0.        ,\n",
       "        -187.59018759,     0.        ,   -96.79821296,  2131.14754094,\n",
       "           0.        ,     0.        ,     0.        ,   -24.13665058,\n",
       "         -99.69325153,   -35.5482636 ,   -94.06657019,     0.        ,\n",
       "           0.        ,     0.        ,   -26.08870159,     0.        ,\n",
       "           0.        ,     0.        ,     0.        ,  2131.14754094,\n",
       "         -72.82913165,     0.        ,  -100.697134  ,     0.        ,\n",
       "           0.        ,     0.        ,   -66.97578568,     0.        ,\n",
       "           0.        ,     0.        ,   -67.42738589,   -30.09259259,\n",
       "           0.        ,     0.        ,   -33.29918033,  -329.94923858,\n",
       "           0.        ,   -79.80356047,     0.        ,     0.        ,\n",
       "         -48.70738104,     0.        ,     0.        ,   -52.        ,\n",
       "           0.        ,     0.        ,     0.        ,     0.        ,\n",
       "         -26.36382073,     0.        ,  -242.08566108,  -366.1971831 ,\n",
       "           0.        ,   -42.49754822,     0.        ,     0.        ,\n",
       "         -41.26984127,   -76.74144038,   -45.18595759,   -31.81595693,\n",
       "         -14.9408114 ,   -97.7443609 ,     0.        ,     0.        ,\n",
       "         -26.93184172,   -51.20126034,     0.        ,  -207.00636943,\n",
       "           0.        ,     0.        ,     0.        ,   -87.48317631,\n",
       "         -43.80053908,   -25.95328409, -1203.70370368,  1300.00000001,\n",
       "        -261.04417671,   -64.80558325,  -225.69444444,     0.        ,\n",
       "           0.        ,     0.        ,   -88.25526137,  -300.23094688,\n",
       "           0.        ,     0.        ,     0.        ,   -52.        ,\n",
       "           0.        ,     0.        ,  -395.13677811,     0.        ,\n",
       "           0.        ,     0.        ,   -32.6469111 ,   -24.55146364,\n",
       "           0.        ,     0.        ,  -150.81206497,     0.        ,\n",
       "         -43.04635762,   -25.10621862,   -26.02081665,     0.        ,\n",
       "           0.        ,     0.        ,     0.        ,     0.        ,\n",
       "           0.        ,   -59.77011494,   -35.67508233,     0.        ,\n",
       "           0.        ,     0.        ,   -16.57529007,     0.        ,\n",
       "         -24.85659656,   -75.58139535,   -31.31775476,     0.        ,\n",
       "        -177.59562841,     0.        ,  -283.22440087,     0.        ,\n",
       "        1150.44247788,     0.        ,   -90.65550907,     0.        ,\n",
       "           0.        ,   -34.09388933,     0.        ,     0.        ,\n",
       "           0.        ,   -39.47767993,     0.        ,     0.        ,\n",
       "           0.        ,     0.        ,   -50.68226121,     0.        ,\n",
       "        -132.78855975,     0.        ,   -40.76513013,     0.        ,\n",
       "           0.        ,   -30.93028789,     0.        ,     0.        ,\n",
       "         -57.36981465,     0.        ,  -134.57556936,     0.        ,\n",
       "           0.        ,     0.        ,   -41.10022131,     0.        ,\n",
       "        -163.11166876,     0.        ,  -613.20754717,     0.        ,\n",
       "        -546.21848739,   -26.93184172,     0.        ,   -35.5482636 ,\n",
       "         -46.01769912,     0.        ,     0.        ,   -69.29637527,\n",
       "           0.        ,     0.        ,     0.        ,   -31.21998079,\n",
       "           0.        ,     0.        ,   -30.00230787,     0.        ,\n",
       "           0.        ,     0.        ,   -57.70084332,     0.        ,\n",
       "           0.        ,     0.        ,     0.        ,     0.        ,\n",
       "           0.        , -1585.36585366,   -65.22829905,     0.        ,\n",
       "         -51.73099881,     0.        ,   -40.27261462,     0.        ,\n",
       "        5909.09090909,  -577.77777778,   -36.06102635,     0.        ,\n",
       "        5909.09090958,     0.        ,     0.        ,     0.        ,\n",
       "           0.        ,   -18.75090149,   -35.5482636 ,     0.        ,\n",
       "           0.        ,     0.        ,     0.        ,  -613.20754717,\n",
       "        -124.5210728 ,   -15.40101884,   -42.86185295,     0.        ,\n",
       "         -60.12950971,     0.        ,     0.        ,     0.        ,\n",
       "           0.        ,  -180.80667594,   -41.44086707,     0.        ,\n",
       "       -1203.70370368,     0.        ,     0.        ,   -66.53019447,\n",
       "           0.        ,   -53.10457516,     0.        ,     0.        ,\n",
       "           0.        ,     0.        ,   -84.52535761,     0.        ,\n",
       "           0.        ,     0.        ,     0.        ,  -184.13597734,\n",
       "         -23.84883508,     0.        ,     0.        ,   -85.24590164,\n",
       "        -132.78855975,     0.        ,     0.        ,     0.        ,\n",
       "        -131.0483871 ,  1300.00000001, -1074.38016526,     0.        ,\n",
       "           0.        ,   -56.08283003,  -395.13677812,   -72.3025584 ,\n",
       "        -211.38211382,     0.        ,     0.        ,  -191.17647059,\n",
       "           0.        ,   -21.58392827,   -34.09388933,     0.        ,\n",
       "         -56.39913232,  1494.25287359,  -124.5210728 ,     0.        ,\n",
       "        -109.51979781,     0.        ,     0.        ,   -35.29731197,\n",
       "         -51.46476643,  -103.83386581,     0.        ,     0.        ,\n",
       "           0.        ,   -29.29907595,     0.        ,   -50.17367812,\n",
       "           0.        ,     0.        ,   -52.82405526,   -68.3491062 ,\n",
       "        -115.86452763,     0.        ,     0.        ,     0.        ,\n",
       "         -49.67520061,     0.        ,     0.        ,     0.        ,\n",
       "           0.        ,  -366.1971831 ,     0.        ,     0.        ,\n",
       "        -126.09117362,     0.        ,   -75.58139535,   -28.14462005,\n",
       "         -25.16940949,     0.        ,   -66.53019447,   -29.73467521,\n",
       "        -184.13597734,     0.        ,  -157.95868773,   -35.67508233,\n",
       "           0.        ,     0.        ,     0.        ,     0.        ,\n",
       "        -653.26633165,     0.        ,  -146.3963964 ,     0.        ,\n",
       "           0.        ,     0.        ,     0.        ,     0.        ,\n",
       "           0.        ,   -93.18996416,     0.        ,  -121.4953271 ,\n",
       "        -469.31407942,  -366.1971831 ,     0.        ,   -33.86298515,\n",
       "        1300.00000001,  -268.04123711,  -160.49382716,   -35.67508233,\n",
       "         -72.3025584 , -3023.2558138 ,     0.        ,     0.        ,\n",
       "         -63.97637795,     0.        ,   -46.66188083,   -51.46476643,\n",
       "           0.        ,     0.        ,   -19.10921652,   -74.4558992 ,\n",
       "        -751.44508669,   -44.78126076,   -89.04109589,     0.        ,\n",
       "         -49.42965779,     0.        ,     0.        ,     0.        ,\n",
       "         -34.80589023,   -62.38003839,  -230.90586146,   -75.58139535,\n",
       "           0.        ,     0.        ,     0.        ,     0.        ,\n",
       "           0.        ,     0.        ,   -49.42965779,     0.        ,\n",
       "         -67.42738589,     0.        ,   -73.9056282 ,   -70.27027027,\n",
       "           0.        ,     0.        ,     0.        ,   -86.72448299,\n",
       "         -52.54648343,     0.        ,   -79.80356047,     0.        ,\n",
       "         -24.91853556,     0.        ,     0.        ,     0.        ,\n",
       "           0.        ,     0.        ,     0.        ,   -90.65550907,\n",
       "        -341.20734908,   -31.91750552,   -70.7675558 ,     0.        ,\n",
       "           0.        ,   -70.7675558 ,     0.        ,   -27.98708288,\n",
       "        -309.52380952,     0.        ,  -202.80811232,  -103.83386581,\n",
       "           0.        ,   -68.81948121,   -50.94043887,     0.        ,\n",
       "           0.        , -7647.05882379,   -81.09794136,     0.        ,\n",
       "       -1368.42105263,   -47.77655274,  -309.52380952,     0.        ,\n",
       "           0.        ,     0.        ,  -153.1213192 ,  -165.81632653,\n",
       "         -62.38003839,     0.        ,     0.        ,     0.        ,\n",
       "           0.        ,   -45.18595759,     0.        ,   -31.81595693,\n",
       "           0.        ,     0.        ,     0.        ,  -546.21848739,\n",
       "         -79.17174178,     0.        ,     0.        ,  -140.2373247 ,\n",
       "         -71.783545  ,     0.        ,   -33.63518758,     0.        ,\n",
       "           0.        ,     0.        ,  5909.09090958,     0.        ,\n",
       "        -107.17230008,   -37.69208466,     0.        ,   -53.96430054,\n",
       "           0.        ,     0.        ,     0.        ,     0.        ,\n",
       "           0.        ,     0.        ,  -144.28412875,   -28.46507554,\n",
       "           0.        ,   -24.98078401,     0.        ,   -43.04635762,\n",
       "         -47.5493782 ,     0.        ,   -29.12838898,  -812.5       ,\n",
       "        -122.98959319,   -55.77005577,     0.        ,     0.        ,\n",
       "         -78.54984894,     0.        ,     0.        ,     0.        ,\n",
       "           0.        ,     0.        ,   -89.04109589,  -613.20754717,\n",
       "           0.        ,  -100.697134  ,     0.        ,  -136.41133263,\n",
       "        3714.28571443, -1203.70370368,  -268.04123711,   -94.06657019,\n",
       "         -80.44554455,   -97.7443609 ,     0.        ,  -884.3537415 ,\n",
       "           0.        ,  -136.41133263,     0.        ,     0.        ,\n",
       "           0.        ,     0.        ,     0.        ,     0.        ,\n",
       "           0.        ,     0.        ,   -41.44086707,     0.        ,\n",
       "         -20.60548423,   -48.00590842,     0.        ,     0.        ,\n",
       "         -70.27027027,   -34.68516542,   -24.49133384,   -46.88063469,\n",
       "         -54.25709516,   -38.56422427,     0.        ,     0.        ,\n",
       "        -126.09117362,     0.        ,     0.        ,   -61.61137441,\n",
       "        -613.20754717,   -39.01560624,     0.        ,     0.        ,\n",
       "           0.        ,   -63.56968215,     0.        ,   -89.84105045,\n",
       "         -18.68084495,   -27.75405636,  1300.00000001,     0.        ,\n",
       "        -127.70137525,   -32.75384228,   -37.69208466,   -76.15700059,\n",
       "           0.        ,   -34.09388933, -4333.33333309,   -37.8346915 ,\n",
       "           0.        ,     0.        ,     0.        ,     0.        ,\n",
       "           0.        ,   -31.61478599,     0.        ,   -25.81926514,\n",
       "         -81.09794136,     0.        ,     0.        ,  -300.23094688,\n",
       "         -37.55054882,     0.        ,   -58.71725384,     0.        ,\n",
       "           0.        ,     0.        ,     0.        ,   -20.73365231,\n",
       "           0.        ,     0.        ,     0.        ,  -168.61219196,\n",
       "         -96.79821296,   -40.43545879,     0.        ,  -127.70137525])"
      ]
     },
     "execution_count": 155,
     "metadata": {},
     "output_type": "execute_result"
    }
   ],
   "source": [
    "p"
   ]
  },
  {
   "cell_type": "code",
   "execution_count": 143,
   "metadata": {},
   "outputs": [
    {
     "data": {
      "text/plain": [
       "98.2502"
      ]
     },
     "execution_count": 143,
     "metadata": {},
     "output_type": "execute_result"
    }
   ],
   "source": [
    "population_estimated_mean.round()"
   ]
  },
  {
   "cell_type": "code",
   "execution_count": 144,
   "metadata": {},
   "outputs": [
    {
     "data": {
      "text/plain": [
       "98.2492"
      ]
     },
     "execution_count": 144,
     "metadata": {},
     "output_type": "execute_result"
    }
   ],
   "source": [
    "np.round(observed_mean,4)"
   ]
  },
  {
   "cell_type": "code",
   "execution_count": null,
   "metadata": {},
   "outputs": [],
   "source": []
  },
  {
   "cell_type": "code",
   "execution_count": 145,
   "metadata": {},
   "outputs": [
    {
     "data": {
      "image/png": "[encoded data removed]",
      "text/plain": [
       "<Figure size 432x288 with 1 Axes>"
      ]
     },
     "metadata": {
      "needs_background": "light"
     },
     "output_type": "display_data"
    }
   ],
   "source": [
    "sns.distplot(new_means, bins=20);"
   ]
  },
  {
   "cell_type": "code",
   "execution_count": null,
   "metadata": {},
   "outputs": [],
   "source": []
  },
  {
   "cell_type": "code",
   "execution_count": 22,
   "metadata": {
    "scrolled": true
   },
   "outputs": [
    {
     "data": {
      "image/png": "[encoded data removed]",
      "text/plain": [
       "<Figure size 576x288 with 2 Axes>"
      ]
     },
     "metadata": {
      "needs_background": "light"
     },
     "output_type": "display_data"
    }
   ],
   "source": [
    "# swarmplot of the temperature and heart rate values based on gender.\n",
    "fig, [ax1, ax2] = plt.subplots(1,2, figsize=(8,4))\n",
    "sns.swarmplot(x='gender',y='temperature', data=df, ax=ax1)\n",
    "sns.swarmplot(x='gender', y='heart_rate', data=df, ax=ax2)\n",
    "plt.tight_layout()"
   ]
  },
  {
   "cell_type": "code",
   "execution_count": 23,
   "metadata": {},
   "outputs": [
    {
     "data": {
      "text/html": [
       "<div>\n",
       "<style scoped>\n",
       "    .dataframe tbody tr th:only-of-type {\n",
       "        vertical-align: middle;\n",
       "    }\n",
       "\n",
       "    .dataframe tbody tr th {\n",
       "        vertical-align: top;\n",
       "    }\n",
       "\n",
       "    .dataframe thead th {\n",
       "        text-align: right;\n",
       "    }\n",
       "</style>\n",
       "<table border=\"1\" class=\"dataframe\">\n",
       "  <thead>\n",
       "    <tr style=\"text-align: right;\">\n",
       "      <th></th>\n",
       "      <th>temperature</th>\n",
       "      <th>gender</th>\n",
       "      <th>heart_rate</th>\n",
       "    </tr>\n",
       "  </thead>\n",
       "  <tbody>\n",
       "    <tr>\n",
       "      <th>0</th>\n",
       "      <td>99.3</td>\n",
       "      <td>F</td>\n",
       "      <td>68.0</td>\n",
       "    </tr>\n",
       "    <tr>\n",
       "      <th>1</th>\n",
       "      <td>98.4</td>\n",
       "      <td>F</td>\n",
       "      <td>81.0</td>\n",
       "    </tr>\n",
       "    <tr>\n",
       "      <th>2</th>\n",
       "      <td>97.8</td>\n",
       "      <td>M</td>\n",
       "      <td>73.0</td>\n",
       "    </tr>\n",
       "    <tr>\n",
       "      <th>3</th>\n",
       "      <td>99.2</td>\n",
       "      <td>F</td>\n",
       "      <td>66.0</td>\n",
       "    </tr>\n",
       "    <tr>\n",
       "      <th>4</th>\n",
       "      <td>98.0</td>\n",
       "      <td>F</td>\n",
       "      <td>73.0</td>\n",
       "    </tr>\n",
       "  </tbody>\n",
       "</table>\n",
       "</div>"
      ],
      "text/plain": [
       "   temperature gender  heart_rate\n",
       "0         99.3      F        68.0\n",
       "1         98.4      F        81.0\n",
       "2         97.8      M        73.0\n",
       "3         99.2      F        66.0\n",
       "4         98.0      F        73.0"
      ]
     },
     "execution_count": 23,
     "metadata": {},
     "output_type": "execute_result"
    }
   ],
   "source": [
    "df.head()"
   ]
  },
  {
   "cell_type": "markdown",
   "metadata": {},
   "source": [
    "#### Discussion\n",
    "* The above ecdf graph shows that the some 60% of all body temperature is between 98 and 99 degrees. "
   ]
  }
 ],
 "metadata": {
  "kernelspec": {
   "display_name": "Python 3",
   "language": "python",
   "name": "python3"
  },
  "language_info": {
   "codemirror_mode": {
    "name": "ipython",
    "version": 3
   },
   "file_extension": ".py",
   "mimetype": "text/x-python",
   "name": "python",
   "nbconvert_exporter": "python",
   "pygments_lexer": "ipython3",
   "version": "3.7.0"
  }
 },
 "nbformat": 4,
 "nbformat_minor": 1
}
