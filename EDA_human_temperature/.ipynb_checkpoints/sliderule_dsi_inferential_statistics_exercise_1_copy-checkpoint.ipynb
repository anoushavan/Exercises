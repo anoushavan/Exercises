{
 "cells": [
  {
   "cell_type": "markdown",
   "metadata": {},
   "source": [
    "# What is the True Normal Human Body Temperature? \n",
    "\n",
    "#### Background\n",
    "\n",
    "The mean normal body temperature was held to be 37$^{\\circ}$C or 98.6$^{\\circ}$F for more than 120 years since it was first conceptualized and reported by Carl Wunderlich in a famous 1868 book. But, is this value statistically correct?"
   ]
  },
  {
   "cell_type": "markdown",
   "metadata": {},
   "source": [
    "<h3>Exercises</h3>\n",
    "\n",
    "<p>In this exercise, you will analyze a dataset of human body temperatures and employ the concepts of hypothesis testing, confidence intervals, and statistical significance.</p>\n",
    "\n",
    "<p>Answer the following questions <b>in this notebook below and submit to your Github account</b>.</p> \n",
    "\n",
    "<ol>\n",
    "<li>  Is the distribution of body temperatures normal? \n",
    "    <ul>\n",
    "    <li> Although this is not a requirement for the Central Limit Theorem to hold (read the introduction on Wikipedia's page about the CLT carefully: https://en.wikipedia.org/wiki/Central_limit_theorem), it gives us some peace of mind that the population may also be normally distributed if we assume that this sample is representative of the population.\n",
    "    <li> Think about the way you're going to check for the normality of the distribution. Graphical methods are usually used first, but there are also other ways: https://en.wikipedia.org/wiki/Normality_test\n",
    "    </ul>\n",
    "<li>  Is the sample size large? Are the observations independent?\n",
    "    <ul>\n",
    "    <li> Remember that this is a condition for the Central Limit Theorem, and hence the statistical tests we are using, to apply.\n",
    "    </ul>\n",
    "<li>  Is the true population mean really 98.6 degrees F?\n",
    "    <ul>\n",
    "    <li> First, try a bootstrap hypothesis test.\n",
    "    <li> Now, let's try frequentist statistical testing. Would you use a one-sample or two-sample test? Why?\n",
    "    <li> In this situation, is it appropriate to use the $t$ or $z$ statistic? \n",
    "    <li> Now try using the other test. How is the result be different? Why?\n",
    "    </ul>\n",
    "<li>  Draw a small sample of size 10 from the data and repeat both frequentist tests. \n",
    "    <ul>\n",
    "    <li> Which one is the correct one to use? \n",
    "    <li> What do you notice? What does this tell you about the difference in application of the $t$ and $z$ statistic?\n",
    "    </ul>\n",
    "<li>  At what temperature should we consider someone's temperature to be \"abnormal\"?\n",
    "    <ul>\n",
    "    <li> As in the previous example, try calculating everything using the boostrap approach, as well as the frequentist approach.\n",
    "    <li> Start by computing the margin of error and confidence interval. When calculating the confidence interval, keep in mind that you should use the appropriate formula for one draw, and not N draws.\n",
    "    </ul>\n",
    "<li>  Is there a significant difference between males and females in normal temperature?\n",
    "    <ul>\n",
    "    <li> What testing approach did you use and why?\n",
    "    <li> Write a story with your conclusion in the context of the original problem.\n",
    "    </ul>\n",
    "</ol>\n",
    "\n",
    "You can include written notes in notebook cells using Markdown: \n",
    "   - In the control panel at the top, choose Cell > Cell Type > Markdown\n",
    "   - Markdown syntax: http://nestacms.com/docs/creating-content/markdown-cheat-sheet\n",
    "\n",
    "#### Resources\n",
    "\n",
    "+ Information and data sources: http://www.amstat.org/publications/jse/datasets/normtemp.txt, http://www.amstat.org/publications/jse/jse_data_archive.htm\n",
    "+ Markdown syntax: http://nestacms.com/docs/creating-content/markdown-cheat-sheet\n",
    "\n",
    "****"
   ]
  },
  {
   "cell_type": "code",
   "execution_count": 29,
   "metadata": {},
   "outputs": [],
   "source": [
    "# Your work here."
   ]
  },
  {
   "cell_type": "code",
   "execution_count": 221,
   "metadata": {},
   "outputs": [],
   "source": [
    "import matplotlib.pyplot as plt\n",
    "import pandas as pd\n",
    "import seaborn as sns\n",
    "import numpy as np\n",
    "import scipy.stats as stats"
   ]
  },
  {
   "cell_type": "code",
   "execution_count": 31,
   "metadata": {},
   "outputs": [],
   "source": [
    "df = pd.read_csv('data/human_body_temperature.csv')"
   ]
  },
  {
   "cell_type": "code",
   "execution_count": 32,
   "metadata": {
    "scrolled": true
   },
   "outputs": [
    {
     "data": {
      "text/html": [
       "<div>\n",
       "<style scoped>\n",
       "    .dataframe tbody tr th:only-of-type {\n",
       "        vertical-align: middle;\n",
       "    }\n",
       "\n",
       "    .dataframe tbody tr th {\n",
       "        vertical-align: top;\n",
       "    }\n",
       "\n",
       "    .dataframe thead th {\n",
       "        text-align: right;\n",
       "    }\n",
       "</style>\n",
       "<table border=\"1\" class=\"dataframe\">\n",
       "  <thead>\n",
       "    <tr style=\"text-align: right;\">\n",
       "      <th></th>\n",
       "      <th>temperature</th>\n",
       "      <th>gender</th>\n",
       "      <th>heart_rate</th>\n",
       "    </tr>\n",
       "  </thead>\n",
       "  <tbody>\n",
       "    <tr>\n",
       "      <th>0</th>\n",
       "      <td>99.3</td>\n",
       "      <td>F</td>\n",
       "      <td>68.0</td>\n",
       "    </tr>\n",
       "    <tr>\n",
       "      <th>1</th>\n",
       "      <td>98.4</td>\n",
       "      <td>F</td>\n",
       "      <td>81.0</td>\n",
       "    </tr>\n",
       "    <tr>\n",
       "      <th>2</th>\n",
       "      <td>97.8</td>\n",
       "      <td>M</td>\n",
       "      <td>73.0</td>\n",
       "    </tr>\n",
       "    <tr>\n",
       "      <th>3</th>\n",
       "      <td>99.2</td>\n",
       "      <td>F</td>\n",
       "      <td>66.0</td>\n",
       "    </tr>\n",
       "    <tr>\n",
       "      <th>4</th>\n",
       "      <td>98.0</td>\n",
       "      <td>F</td>\n",
       "      <td>73.0</td>\n",
       "    </tr>\n",
       "  </tbody>\n",
       "</table>\n",
       "</div>"
      ],
      "text/plain": [
       "   temperature gender  heart_rate\n",
       "0         99.3      F        68.0\n",
       "1         98.4      F        81.0\n",
       "2         97.8      M        73.0\n",
       "3         99.2      F        66.0\n",
       "4         98.0      F        73.0"
      ]
     },
     "execution_count": 32,
     "metadata": {},
     "output_type": "execute_result"
    }
   ],
   "source": [
    "df.head()"
   ]
  },
  {
   "cell_type": "markdown",
   "metadata": {},
   "source": [
    "#### 1. Is the distribution of body temperatures normal?\n"
   ]
  },
  {
   "cell_type": "code",
   "execution_count": 33,
   "metadata": {
    "scrolled": true
   },
   "outputs": [
    {
     "data": {
      "image/png": "[encoded data removed]",
      "text/plain": [
       "<Figure size 432x288 with 1 Axes>"
      ]
     },
     "metadata": {
      "needs_background": "light"
     },
     "output_type": "display_data"
    }
   ],
   "source": [
    "sns.distplot(df['temperature'], bins=30);"
   ]
  },
  {
   "cell_type": "code",
   "execution_count": 34,
   "metadata": {},
   "outputs": [
    {
     "data": {
      "text/plain": [
       "<matplotlib.axes._subplots.AxesSubplot at 0x1195bfe48>"
      ]
     },
     "execution_count": 34,
     "metadata": {},
     "output_type": "execute_result"
    },
    {
     "data": {
      "image/png": "[encoded data removed]",
      "text/plain": [
       "<Figure size 432x288 with 1 Axes>"
      ]
     },
     "metadata": {
      "needs_background": "light"
     },
     "output_type": "display_data"
    }
   ],
   "source": [
    "sns.distplot(df['heart_rate'], bins=20)"
   ]
  },
  {
   "cell_type": "code",
   "execution_count": 35,
   "metadata": {},
   "outputs": [],
   "source": [
    "def ecdf(data):\n",
    "    ''' takes the data and returns the x and y values where x is the sorted data and\n",
    "    y is the cumulative proportion of the distribution of data. The result can be used for \n",
    "    plotting an empirical cumulative distribution function (ECDF).\n",
    "    '''\n",
    "    n = len(data)\n",
    "    x = np.sort(data)\n",
    "    y = np.arange(1, n+1)/n\n",
    "    return x, y    "
   ]
  },
  {
   "cell_type": "code",
   "execution_count": 36,
   "metadata": {},
   "outputs": [],
   "source": [
    "t1, t2 = ecdf(df['temperature'])\n",
    "h1,h2 = ecdf(df['heart_rate'])"
   ]
  },
  {
   "cell_type": "code",
   "execution_count": 37,
   "metadata": {},
   "outputs": [],
   "source": [
    "# define an array of percentiles\n",
    "percentiles = np.array([2.5,25,50,75,97.5])\n",
    "\n",
    "temp_percentile = np.percentile(df['temperature'], percentiles).round(1)\n",
    "hr_percentile = np.percentile(df['heart_rate'],percentiles).round(1)"
   ]
  },
  {
   "cell_type": "code",
   "execution_count": 38,
   "metadata": {},
   "outputs": [],
   "source": [
    "# get the µ and sd of the distribution to replicate the value in normal dist.\n",
    "sd_temp = np.std(df['temperature'])\n",
    "mu_temp = np.mean(df['temperature'])\n",
    "sd_hr = np.std(df['heart_rate'])\n",
    "mu_hr = np.mean(df['heart_rate'])"
   ]
  },
  {
   "cell_type": "code",
   "execution_count": 63,
   "metadata": {
    "scrolled": true
   },
   "outputs": [],
   "source": [
    "# create a normally distributed data based on the means and standard deviations \n",
    "# of the observed data. \n",
    "np.random.seed(42)\n",
    "temp_normal = np.random.normal(mu_temp,sd_temp,10000)\n",
    "hr_normal = np.random.normal(mu_hr,sd_hr,10000)"
   ]
  },
  {
   "cell_type": "code",
   "execution_count": 64,
   "metadata": {},
   "outputs": [],
   "source": [
    "# create the x and y values of the theoretical (normal) distribution. \n",
    "t1_theor, t2_theor = ecdf(temp_normal)\n",
    "h1_theor, h2_theor = ecdf(hr_normal)"
   ]
  },
  {
   "cell_type": "code",
   "execution_count": 71,
   "metadata": {
    "scrolled": true
   },
   "outputs": [
    {
     "data": {
      "image/png": "[encoded data removed]",
      "text/plain": [
       "<Figure size 720x288 with 2 Axes>"
      ]
     },
     "metadata": {
      "needs_background": "light"
     },
     "output_type": "display_data"
    }
   ],
   "source": [
    "# plot the empirical cumulative distribution function, \n",
    "# actual percentiles (2.5, 25, 50, 75, 97.5) and the theoretical normal distribution \n",
    "# cumulative values. \n",
    "fig, [ax1, ax2] = plt.subplots(1,2,figsize=(10,4))\n",
    "ax1.plot(t1,t2,marker='.', linestyle='none', label='actual distribution')\n",
    "ax1.plot(temp_percentile,percentiles/100,marker='D',\n",
    "         color='red', linestyle='none', label='percentiles (2.5 to 97.5)')\n",
    "ax1.plot(t1_theor,t2_theor, color='k', label='normal distribution', alpha=0.7)\n",
    "ax1.set_xlabel('Human body temperature (fh)')\n",
    "ax1.set_ylabel('Empirical cumulative distribution');\n",
    "ax1.legend()\n",
    "for i,j in zip(temp_percentile,percentiles):\n",
    "    ax1.annotate(str(i),xy=(i+0.2,j/100-0.05))\n",
    "    \n",
    "ax2.plot(h1,h2,marker='.', linestyle='none',label='actual distribution')\n",
    "ax2.plot(hr_percentile,percentiles/100,marker='D', \n",
    "         color='red', linestyle='none', label='percentiles (2.5 to 97.5)')\n",
    "ax2.plot(h1_theor,h2_theor, color='k',label='normal distribution', alpha=0.7)\n",
    "for i,j in zip(hr_percentile,percentiles):\n",
    "    ax2.annotate(str(i),xy=(i+0.2,j/100-0.04))\n",
    "\n",
    "ax2.set_xlabel('heart rate')\n",
    "ax2.set_ylabel('Empirical cumulative distribution');\n",
    "ax2.legend()\n",
    "plt.tight_layout()"
   ]
  },
  {
   "cell_type": "markdown",
   "metadata": {},
   "source": [
    "#### Discussion\n",
    "Data seem approximately normally distributed, especially for the hear rate. Body temperature data seem to have a left skew (most of the data is slightly higher than the theoretical normal distribution)."
   ]
  },
  {
   "cell_type": "markdown",
   "metadata": {},
   "source": [
    "**2. Is the sample size large? Are the observations independent?**\n",
    "* Remember that this is a condition for the Central Limit Theorem, and hence the statistical tests we are using, to apply."
   ]
  },
  {
   "cell_type": "markdown",
   "metadata": {},
   "source": [
    "#### Answer\n",
    "* Since the data is about biological measurements, the underlying population data should be normally distributed. The sample size of 390 observations is large enough. \n",
    "* the observations are independent among the variables. but there might be some correlation between the body temperature and heart rate, so we cannot rule out dependence between these 2 variables.\n",
    "\n",
    "***Ask Shmuel about this. Are they asking about the independence between heart rate and temperature or independence among the different observations?***"
   ]
  },
  {
   "cell_type": "markdown",
   "metadata": {},
   "source": [
    "above 20 samples is large enough. \n",
    "\n",
    "t statistic = std / n for population. but if you have only the sample, t = std / (n-1). if the 1 is making a big difference in the denominator, than this number is not large enough. "
   ]
  },
  {
   "cell_type": "markdown",
   "metadata": {},
   "source": [
    "**3. Is the true population mean really 98.6 degrees F?**\n",
    "* First, try a bootstrap hypothesis test. "
   ]
  },
  {
   "cell_type": "markdown",
   "metadata": {},
   "source": [
    "#### Answer\n",
    "\n",
    "##### Hypothesis testing\n",
    "* H0: the population mean is not significantly different from 98.6 degrees.\n",
    "* H1: It IS different.\n",
    "\n",
    "We need to construct a two-tail hypothesis test using bootstrapping. \n",
    "\n",
    "##### t-statistic vs z-statistic\n",
    "When we don't know the actual parameters of the population distribution (mean, std), we need to use the **t-statistic**."
   ]
  },
  {
   "cell_type": "markdown",
   "metadata": {},
   "source": [
    "* H0: there is no difference between the sample mean and the population mean (estimated using bootrsapping of 10,000 samples)\n",
    "* H1: there is difference between the sample mean and the population mean. \n",
    "\n",
    "To test the null hypothesis we do the following steps:\n",
    "1. Create bootstrap samples (10,000) from the given sample.\n",
    "2. Compute the fraction of the bootstrap sample means that are more than or equal to 98.6. This will give us the p-value. \n",
    "3. Reject the null hypothesis if the p value is less than 0.05 (95% confidence level)."
   ]
  },
  {
   "cell_type": "code",
   "execution_count": 102,
   "metadata": {},
   "outputs": [],
   "source": [
    "# Bootstrap hypothesis test:\n",
    "# Create a bootstrapping sample from the existing sample and check what is the probability\n",
    "# that we can get a value as extreme or more than the observed mean.\n",
    "\n",
    "def bootstrap_means(data, size):\n",
    "    '''\n",
    "    Recreate the sample by drawing a random item from the sample with replacement, \n",
    "    creating a sub-set in the size of the original sample from the randomly selected items,\n",
    "    taking their means and appending these means to a numpy array. \n",
    "    '''\n",
    "    bootstrap = np.empty(size)\n",
    "    for i in range(size):\n",
    "        bootstrap[i] = np.mean(np.random.choice(data, len(data)))\n",
    "    return bootstrap"
   ]
  },
  {
   "cell_type": "code",
   "execution_count": 149,
   "metadata": {},
   "outputs": [],
   "source": [
    "# create a sample of theoretical means using bootstraping.\n",
    "boot_means_temp = bootstrap_means(df['temperature'], 10000)"
   ]
  },
  {
   "cell_type": "code",
   "execution_count": 222,
   "metadata": {
    "scrolled": false
   },
   "outputs": [
    {
     "data": {
      "image/png": "[encoded data removed]",
      "text/plain": [
       "<Figure size 432x288 with 1 Axes>"
      ]
     },
     "metadata": {
      "needs_background": "light"
     },
     "output_type": "display_data"
    }
   ],
   "source": [
    "fig, ax = plt.subplots()\n",
    "sns.distplot(boot_means_temp, bins=30, ax=ax);\n",
    "ax.vlines(np.mean(df['temperature']),0,6.5, color='red', linewidth=0.6);\n",
    "ax.vlines(98.6,0,6.5, color='green', linewidth=0.6);\n",
    "ax.annotate('sample mean', xy=(98.255,6.4), color='red');\n",
    "ax.annotate('hypothesis mean', xy=(98.61,6.4),color='green')\n",
    "ax.set_xlim(98,98.65)\n",
    "ax.set_xlabel('body temperature');"
   ]
  },
  {
   "cell_type": "code",
   "execution_count": 218,
   "metadata": {
    "scrolled": true
   },
   "outputs": [
    {
     "data": {
      "text/plain": [
       "98.25"
      ]
     },
     "execution_count": 218,
     "metadata": {},
     "output_type": "execute_result"
    }
   ],
   "source": [
    "np.round(df['temperature'].mean(),2)"
   ]
  },
  {
   "cell_type": "code",
   "execution_count": 243,
   "metadata": {},
   "outputs": [
    {
     "data": {
      "text/plain": [
       "0.0"
      ]
     },
     "execution_count": 243,
     "metadata": {},
     "output_type": "execute_result"
    }
   ],
   "source": [
    "# The fraction of the observed mean and values smaller than that over the entire data (means)\n",
    "p = np.sum(boot_means_temp >= 98.6)/len(boot_means_temp)\n",
    "p"
   ]
  },
  {
   "cell_type": "markdown",
   "metadata": {},
   "source": [
    "#### Discussion: hypothesis testing\n",
    "\n",
    "* the p-value of the result is around 0, which suggests that we should reject the null hypothesis that the true body temperature is 98.6. "
   ]
  },
  {
   "cell_type": "markdown",
   "metadata": {},
   "source": [
    "#### Question 3 continued\n",
    "* Now, let's try frequentist statistical testing. Would you use a one-sample or two-sample test? Why?\n",
    "* In this situation, is it appropriate to use the t or z statistic? "
   ]
  },
  {
   "cell_type": "markdown",
   "metadata": {},
   "source": [
    "Hypothesis testing\n",
    "\n",
    "* H0: true population mean is the same as the sample mean (98.25)\n",
    "* H1: true population mean is different from the sample mean. "
   ]
  },
  {
   "cell_type": "code",
   "execution_count": 165,
   "metadata": {},
   "outputs": [],
   "source": [
    "temp = df['temperature']"
   ]
  },
  {
   "cell_type": "code",
   "execution_count": 186,
   "metadata": {},
   "outputs": [],
   "source": [
    "temp_mean = np.round(temp.mean(),2)\n",
    "temp_std = np.std(temp)\n",
    "n = temp.size"
   ]
  },
  {
   "cell_type": "code",
   "execution_count": 187,
   "metadata": {},
   "outputs": [
    {
     "data": {
      "text/plain": [
       "0.06405661469519336"
      ]
     },
     "execution_count": 187,
     "metadata": {},
     "output_type": "execute_result"
    }
   ],
   "source": [
    "se = temp_std/(np.sqrt(n))\n",
    "se"
   ]
  },
  {
   "cell_type": "code",
   "execution_count": 220,
   "metadata": {},
   "outputs": [
    {
     "data": {
      "text/plain": [
       "5.4639165941789525"
      ]
     },
     "execution_count": 220,
     "metadata": {},
     "output_type": "execute_result"
    }
   ],
   "source": [
    "# if the H0 is true, than the true mean is equal to sample mean.\n",
    "# hence, the numerator of this expression is just the samplea mean: t = (x - μ) / SE \n",
    "t = (98.6 - temp_mean)/se\n",
    "t"
   ]
  },
  {
   "cell_type": "code",
   "execution_count": 240,
   "metadata": {},
   "outputs": [
    {
     "data": {
      "text/plain": [
       "98.25"
      ]
     },
     "execution_count": 240,
     "metadata": {},
     "output_type": "execute_result"
    }
   ],
   "source": [
    "temp_mean"
   ]
  },
  {
   "cell_type": "markdown",
   "metadata": {},
   "source": [
    "#### Answer\n",
    "* We would use one sample test because we do not have a second sample data. \n",
    "* Since the body temperature is a natural phenomenon, it is most probably normally distributed. However, we do not have the population parameters, that's why we will use the sample parameters (mean and std). Therefore, t-statistic is more correct to use. \n",
    "* the 95% confidence level t statistic is 1.96. The t statistic that we got is 5.46, which means that the probability of 98.6 being the true population mean is even less than 0.5%."
   ]
  },
  {
   "cell_type": "markdown",
   "metadata": {},
   "source": [
    "* Now try using the other test. How is the result be different? Why?"
   ]
  },
  {
   "cell_type": "code",
   "execution_count": 241,
   "metadata": {
    "scrolled": true
   },
   "outputs": [
    {
     "data": {
      "text/plain": [
       "5.4639165941789525"
      ]
     },
     "execution_count": 241,
     "metadata": {},
     "output_type": "execute_result"
    }
   ],
   "source": [
    "# do a z test:\n",
    "z_score = (98.6 - temp_mean)/se\n",
    "z_score"
   ]
  },
  {
   "cell_type": "markdown",
   "metadata": {},
   "source": [
    "##### Answer\n",
    "The z-score of 5.46 corresponds to a probability of less than 1% that the true mean is equal to 98.6. So we can reject the null hypothesis with more than 99% confidence level. \n",
    "\n",
    "When the sample size is large, the t score and the z score are very similar. "
   ]
  },
  {
   "cell_type": "markdown",
   "metadata": {},
   "source": [
    "##### Question 4\n",
    "\n",
    "* Draw a small sample of size 10 from the data and repeat both frequentist tests.\n",
    "* Which one is the correct one to use?\n",
    "* What do you notice? What does this tell you about the difference in application of the  t  and  z  statistic?"
   ]
  },
  {
   "cell_type": "code",
   "execution_count": 251,
   "metadata": {},
   "outputs": [],
   "source": [
    "# Draw a small sample of size 10 from the data and repeat both frequentist tests.\n",
    "small_temp = np.random.choice(temp,10)"
   ]
  },
  {
   "cell_type": "code",
   "execution_count": 252,
   "metadata": {},
   "outputs": [],
   "source": [
    "# create mean and std and standard error of the sample to be used in the t and z tests.\n",
    "small_mean = np.mean(small_temp)\n",
    "small_std = np.std(small_temp)\n",
    "small_se = small_std/np.sqrt(small_temp.size)"
   ]
  },
  {
   "cell_type": "code",
   "execution_count": 253,
   "metadata": {},
   "outputs": [
    {
     "data": {
      "text/plain": [
       "1.5223149548349326"
      ]
     },
     "execution_count": 253,
     "metadata": {},
     "output_type": "execute_result"
    }
   ],
   "source": [
    "# t-test\n",
    "t = (98.6-small_mean)/small_se\n",
    "t"
   ]
  },
  {
   "cell_type": "code",
   "execution_count": 254,
   "metadata": {
    "scrolled": false
   },
   "outputs": [
    {
     "data": {
      "text/plain": [
       "1.5223149548349326"
      ]
     },
     "execution_count": 254,
     "metadata": {},
     "output_type": "execute_result"
    }
   ],
   "source": [
    "# z-test\n",
    "z = (98.6-small_mean)/small_se\n",
    "z"
   ]
  },
  {
   "cell_type": "markdown",
   "metadata": {},
   "source": [
    "##### Discussion\n",
    "z statistic = 1.52, p value calculated using the z table is 1-0.9357 = 0.064. This is larger than the 0.05 p value that we use to reject the null, so we are not able to reject the null hypothesis that the mean is 98.6. \n",
    "\n",
    "t statistic of 1.52 and 9 degrees of freedom gives us a p value of betweem 0.1 to 0.2. It is larger than the p value obtained from the z table. Both tests fail to reject the null. "
   ]
  },
  {
   "cell_type": "markdown",
   "metadata": {},
   "source": [
    "##### Question 5\n",
    "\n",
    "* At what temperature should we consider someone's temperature to be \"abnormal\"?\n",
    "    * As in the previous example, try calculating everything using the boostrap approach, as well as the frequentist approach.\n",
    "    * Start by computing the margin of error and confidence interval. \n",
    "    * When calculating the confidence interval, keep in mind that you should use the appropriate formula for one draw, and not N draws."
   ]
  },
  {
   "cell_type": "code",
   "execution_count": 277,
   "metadata": {
    "scrolled": false
   },
   "outputs": [
    {
     "data": {
      "text/plain": [
       "array([98.12, 98.38])"
      ]
     },
     "execution_count": 277,
     "metadata": {},
     "output_type": "execute_result"
    }
   ],
   "source": [
    "# Compute a 95% confidence interval of the bootstrapped sample means.\n",
    "mean_of_means = np.mean(boot_means_temp).round(2)\n",
    "mean_of_means\n",
    "\n",
    "# Standard error of the sample mean = st. deviation of the sample / sqrt(n)\n",
    "# 95% of the data will fall witin 2 standard errors away from the mean in both directions.\n",
    "# thus, the marging of error is 2 * se\n",
    "margin_of_error = 2*se # for 95% confidence interval\n",
    "margin_of_error\n",
    "\n",
    "conf_int = np.array([mean_of_means-margin_of_error,mean_of_means+margin_of_error]).round(2)\n",
    "conf_int"
   ]
  },
  {
   "cell_type": "code",
   "execution_count": 412,
   "metadata": {},
   "outputs": [
    {
     "data": {
      "text/plain": [
       "array([98.12, 98.37])"
      ]
     },
     "execution_count": 412,
     "metadata": {},
     "output_type": "execute_result"
    }
   ],
   "source": [
    "# calculate the 95% confidence interval of the bootstrap sample means. \n",
    "conf_int_bootstraps = np.percentile(boot_means_temp,[2.5,97.5]).round(2)\n",
    "conf_int_bootstraps"
   ]
  },
  {
   "cell_type": "markdown",
   "metadata": {},
   "source": [
    "##### Discussion\n",
    "* The confidence intervals calculated from the bootstrapped samples and the frequentist approach are almost identical."
   ]
  },
  {
   "cell_type": "markdown",
   "metadata": {},
   "source": [
    "##### Question 6\n",
    "* Is there a significant difference between males and females in normal temperature?\n",
    "* What testing approach did you use and why?\n",
    "* Write a story with your conclusion in the context of the original problem."
   ]
  },
  {
   "cell_type": "code",
   "execution_count": 435,
   "metadata": {
    "scrolled": false
   },
   "outputs": [
    {
     "data": {
      "image/png": "[encoded data removed]",
      "text/plain": [
       "<Figure size 432x288 with 1 Axes>"
      ]
     },
     "metadata": {
      "needs_background": "light"
     },
     "output_type": "display_data"
    }
   ],
   "source": [
    "# swarmplot of the temperature and heart rate values based on gender.\n",
    "fig, ax = plt.subplots()\n",
    "sns.boxplot(x='gender',y='temperature', data=df, ax=ax);\n",
    "plt.tight_layout()"
   ]
  },
  {
   "cell_type": "markdown",
   "metadata": {},
   "source": [
    "##### Graphical analysis\n",
    "* From the swarmplot above we can see that the female body temperature is slightly higher and the variance is higher as well. \n",
    "\n",
    "##### Hypothesis testing\n",
    "To test whether or not there is a significant difference between male and female body temperatures, we can do the following tests:\n",
    "* two-sample hypothesis testing: \n",
    "    * take the difference between the means of female - male temperatures\n",
    "    * H0: the difference is 0\n",
    "    * H1: difference is greater than 0. \n",
    "* Bootstrapping permutation\n",
    "    * Concatinate the male and female body temperatures into a single array.\n",
    "    * The use np.random.permutation() function to scrample the combined data.\n",
    "    * Then randomly divide this concatenated data into 2 to simulate male and female with the assumption that these 2 populations are similarly distributed.\n",
    "    * Take difference between these 2 samples\n",
    "    * Do this 1000 times via bootstrapping.\n",
    "    * calculate the fraction of the mean of differences that are as large or larger than the original sample's mean of differences. This is the p value based on which we reject or fail to reject the null hypothesis."
   ]
  },
  {
   "cell_type": "code",
   "execution_count": 439,
   "metadata": {},
   "outputs": [],
   "source": [
    "fem = df['temperature'][df['gender']=='F']\n",
    "male = df['temperature'][df['gender']=='M']"
   ]
  },
  {
   "cell_type": "code",
   "execution_count": 452,
   "metadata": {},
   "outputs": [
    {
     "data": {
      "text/plain": [
       "0.289230769230727"
      ]
     },
     "execution_count": 452,
     "metadata": {},
     "output_type": "execute_result"
    }
   ],
   "source": [
    "fem_mean = np.mean(fem)\n",
    "male_mean = np.mean(male)\n",
    "gender_diff_mean = fem_mean-male_mean\n",
    "gender_diff_mean"
   ]
  },
  {
   "cell_type": "code",
   "execution_count": 453,
   "metadata": {},
   "outputs": [
    {
     "data": {
      "text/plain": [
       "array([ 1.5, -0.8,  1.2, -0.8,  0.2,  0.4, -0.6, -1.5,  0.1, -0.6,  1. ,\n",
       "        0.2, -1.1, -0.2, -0.6, -1.5, -1.3, -0.7, -0.7, -0.5, -0.5,  1.2,\n",
       "        1.6,  0.5,  1. ,  1.2, -0.1,  0. ,  1. ,  0.4, -0.4,  1.7, -0.4,\n",
       "       -0.2, -0.6, -0.1, -0.9, -1.1, -0.4,  1.4,  1.6,  0.6,  1.1,  2.9,\n",
       "        0.8, -1.9,  1.8,  0.9,  1.7,  0.2,  1.4, -0.3,  0.3,  0.4,  1.5,\n",
       "        2.1,  2.2,  0.5, -0.6, -0.3, -0.8,  1.5,  0.9,  0.5,  0.8])"
      ]
     },
     "execution_count": 453,
     "metadata": {},
     "output_type": "execute_result"
    }
   ],
   "source": [
    "gender_diff = fem.values - male.values\n",
    "gender_diff"
   ]
  },
  {
   "cell_type": "code",
   "execution_count": 456,
   "metadata": {},
   "outputs": [
    {
     "data": {
      "text/plain": [
       "0.09053585483370011"
      ]
     },
     "execution_count": 456,
     "metadata": {},
     "output_type": "execute_result"
    }
   ],
   "source": [
    "gender_diff_se = np.std(gender_diff)/np.sqrt(len(df))\n",
    "gender_diff_se"
   ]
  },
  {
   "cell_type": "code",
   "execution_count": 458,
   "metadata": {
    "scrolled": false
   },
   "outputs": [
    {
     "data": {
      "text/plain": [
       "3.194654424614399"
      ]
     },
     "execution_count": 458,
     "metadata": {},
     "output_type": "execute_result"
    }
   ],
   "source": [
    "# t statistic:\n",
    "t = (gender_diff_mean-0)/gender_diff_se\n",
    "t"
   ]
  },
  {
   "cell_type": "code",
   "execution_count": 482,
   "metadata": {},
   "outputs": [],
   "source": [
    "# create a function to get permutated samples. \n",
    "\n",
    "def perm_sample(data1, data2):\n",
    "    ''' Concatenate male and female, scramble, and divide by 2 to replicate a scenario \n",
    "    when there is no difference in the distribution of these 2 populations. \n",
    "    '''\n",
    "    combined = np.concatenate([data1,data2])\n",
    "    scrambled = np.random.permutation(combined)\n",
    "    perm_1 = scrambled[:len(data1)]\n",
    "    perm_2 = scrambled[len(data1):]\n",
    "    return perm_1, perm_2"
   ]
  },
  {
   "cell_type": "code",
   "execution_count": 484,
   "metadata": {},
   "outputs": [],
   "source": [
    "perm_fem, perm_male = perm_sample(fem, male)"
   ]
  },
  {
   "cell_type": "code",
   "execution_count": 491,
   "metadata": {},
   "outputs": [],
   "source": [
    "def bootstrap_permut_samples(data1, data2, size):\n",
    "    ''' Create a bootstrapping sample of the data1 and data2 by creating permutations\n",
    "    from them, taking the means of the permutations, calculating the difference and \n",
    "    assiging the difference to an array.\n",
    "    '''\n",
    "    perm_sample_diff_means = np.empty(size)\n",
    "    for i in range(size):\n",
    "        boot1 = np.random.choice(data1, size=len(data1))\n",
    "        boot2 = np.random.choice(data2, size=len(data2))\n",
    "        perm_1, perm_2 = perm_sample(boot1,boot2)\n",
    "        perm_sample_diff_means[i] = np.mean(perm_1) - np.mean(perm_2)\n",
    "    return perm_sample_diff_means"
   ]
  },
  {
   "cell_type": "code",
   "execution_count": 486,
   "metadata": {},
   "outputs": [],
   "source": [
    "diff_perm_samples = bootstrap_permut_samples(fem,male,1000)"
   ]
  },
  {
   "cell_type": "code",
   "execution_count": 490,
   "metadata": {},
   "outputs": [
    {
     "data": {
      "text/plain": [
       "0.011"
      ]
     },
     "execution_count": 490,
     "metadata": {},
     "output_type": "execute_result"
    }
   ],
   "source": [
    "p_perm = np.sum(diff_perm_samples >= gender_diff_mean)/diff_perm_samples.size\n",
    "p_perm"
   ]
  },
  {
   "cell_type": "markdown",
   "metadata": {},
   "source": [
    "##### Discussion\n",
    "* t-test method: The t value of the temperature differences in genders suggest that if the null hypothesis is correct (there is no difference in body temperatures) the probability of observing the current difference purely by chance is about 1-2%, which is less than the 5% typically used for hypothesis testing. Thus, we can reject the hypothesis that there is no difference in temperature values.\n",
    "* bootstrapping method: the p-value is 0.011, which is lower than 5% so we reject the null hypothesis. "
   ]
  }
 ],
 "metadata": {
  "kernelspec": {
   "display_name": "Python 3",
   "language": "python",
   "name": "python3"
  },
  "language_info": {
   "codemirror_mode": {
    "name": "ipython",
    "version": 3
   },
   "file_extension": ".py",
   "mimetype": "text/x-python",
   "name": "python",
   "nbconvert_exporter": "python",
   "pygments_lexer": "ipython3",
   "version": "3.7.0"
  }
 },
 "nbformat": 4,
 "nbformat_minor": 1
}
